{
 "cells": [
  {
   "cell_type": "code",
   "execution_count": 15,
   "metadata": {},
   "outputs": [],
   "source": [
    "import pandas as pd\n",
    "import os\n",
    "\n",
    "from sklearn.model_selection import train_test_split\n",
    "from sklearn.linear_model import LogisticRegression\n",
    "from sklearn.metrics import accuracy_score, classification_report\n",
    "from sklearn.preprocessing import StandardScaler\n",
    "from imblearn.over_sampling import SMOTE\n",
    "import statsmodels.api as sm"
   ]
  },
  {
   "cell_type": "code",
   "execution_count": 16,
   "metadata": {},
   "outputs": [],
   "source": [
    "data_path = os.path.join('..', 'data', 'MachineLearningCVE')"
   ]
  },
  {
   "cell_type": "code",
   "execution_count": 17,
   "metadata": {},
   "outputs": [
    {
     "name": "stdout",
     "output_type": "stream",
     "text": [
      "{' Down/Up Ratio', ' Flow Duration', ' Fwd Packet Length Max', ' Fwd IAT Max', ' CWE Flag Count', 'Flow Bytes/s', ' Fwd Packet Length Std', ' ACK Flag Count', 'Fwd IAT Total', ' Bwd IAT Min', ' Bwd URG Flags', ' Packet Length Mean', ' ECE Flag Count', ' Subflow Bwd Packets', ' Bwd Packets/s', ' Bwd Avg Bytes/Bulk', ' Max Packet Length', ' Bwd Packet Length Std', 'FIN Flag Count', ' Fwd Avg Bulk Rate', 'Total Length of Fwd Packets', ' SYN Flag Count', ' Avg Bwd Segment Size', 'Init_Win_bytes_forward', ' Fwd Header Length', 'Active Mean', ' URG Flag Count', ' Total Fwd Packets', 'Fwd Packets/s', ' Fwd URG Flags', ' Bwd Packet Length Min', ' Active Min', ' Flow IAT Std', ' Bwd IAT Max', ' Min Packet Length', ' Bwd IAT Std', 'Fwd Avg Bytes/Bulk', ' Subflow Fwd Bytes', ' Flow IAT Max', ' Init_Win_bytes_backward', 'Fwd PSH Flags', ' Flow IAT Mean', ' Bwd Avg Packets/Bulk', ' Subflow Bwd Bytes', ' Idle Min', 'Bwd IAT Total', ' Active Max', ' Fwd IAT Min', ' Bwd Packet Length Mean', 'Subflow Fwd Packets', ' Idle Max', ' Fwd IAT Mean', ' Total Length of Bwd Packets', ' Flow Packets/s', ' Avg Fwd Segment Size', ' Bwd PSH Flags', ' act_data_pkt_fwd', ' Bwd IAT Mean', ' Idle Std', 'Bwd Packet Length Max', ' Label', ' Active Std', ' Fwd IAT Std', ' Total Backward Packets', ' Fwd Packet Length Mean', 'Idle Mean', ' Packet Length Std', ' RST Flag Count', ' Average Packet Size', ' Fwd Header Length.1', ' Bwd Header Length', 'Bwd Avg Bulk Rate', ' Destination Port', ' min_seg_size_forward', ' Fwd Avg Packets/Bulk', ' PSH Flag Count', ' Packet Length Variance', ' Flow IAT Min', ' Fwd Packet Length Min'}\n"
     ]
    }
   ],
   "source": [
    "cols = set()\n",
    "dfs = []\n",
    "\n",
    "for file in os.listdir(data_path):\n",
    "    path = os.path.join(data_path, file)\n",
    "    traffic_df = pd.read_csv(path)\n",
    "    dfs.append(traffic_df)\n",
    "    cols.update(traffic_df.columns)\n",
    "full_traffic_data = pd.concat(dfs, ignore_index = True)\n",
    "full_traffic_data.columns = full_traffic_data.columns.str.strip()\n",
    "print(cols)"
   ]
  },
  {
   "cell_type": "code",
   "execution_count": 18,
   "metadata": {},
   "outputs": [
    {
     "name": "stdout",
     "output_type": "stream",
     "text": [
      "<bound method NDFrame.head of          Destination Port  Flow Duration  Total Fwd Packets  \\\n",
      "0                   54865              3                  2   \n",
      "1                   55054            109                  1   \n",
      "2                   55055             52                  1   \n",
      "3                   46236             34                  1   \n",
      "4                   54863              3                  2   \n",
      "...                   ...            ...                ...   \n",
      "2830738                53          32215                  4   \n",
      "2830739                53            324                  2   \n",
      "2830740             58030             82                  2   \n",
      "2830741                53        1048635                  6   \n",
      "2830742                53          94939                  4   \n",
      "\n",
      "         Total Backward Packets  Total Length of Fwd Packets  \\\n",
      "0                             0                           12   \n",
      "1                             1                            6   \n",
      "2                             1                            6   \n",
      "3                             1                            6   \n",
      "4                             0                           12   \n",
      "...                         ...                          ...   \n",
      "2830738                       2                          112   \n",
      "2830739                       2                           84   \n",
      "2830740                       1                           31   \n",
      "2830741                       2                          192   \n",
      "2830742                       2                          188   \n",
      "\n",
      "         Total Length of Bwd Packets  Fwd Packet Length Max  \\\n",
      "0                                  0                      6   \n",
      "1                                  6                      6   \n",
      "2                                  6                      6   \n",
      "3                                  6                      6   \n",
      "4                                  0                      6   \n",
      "...                              ...                    ...   \n",
      "2830738                          152                     28   \n",
      "2830739                          362                     42   \n",
      "2830740                            6                     31   \n",
      "2830741                          256                     32   \n",
      "2830742                          226                     47   \n",
      "\n",
      "         Fwd Packet Length Min  Fwd Packet Length Mean  Fwd Packet Length Std  \\\n",
      "0                            6                     6.0                0.00000   \n",
      "1                            6                     6.0                0.00000   \n",
      "2                            6                     6.0                0.00000   \n",
      "3                            6                     6.0                0.00000   \n",
      "4                            6                     6.0                0.00000   \n",
      "...                        ...                     ...                    ...   \n",
      "2830738                     28                    28.0                0.00000   \n",
      "2830739                     42                    42.0                0.00000   \n",
      "2830740                      0                    15.5               21.92031   \n",
      "2830741                     32                    32.0                0.00000   \n",
      "2830742                     47                    47.0                0.00000   \n",
      "\n",
      "         ...  min_seg_size_forward  Active Mean  Active Std  Active Max  \\\n",
      "0        ...                    20          0.0         0.0           0   \n",
      "1        ...                    20          0.0         0.0           0   \n",
      "2        ...                    20          0.0         0.0           0   \n",
      "3        ...                    20          0.0         0.0           0   \n",
      "4        ...                    20          0.0         0.0           0   \n",
      "...      ...                   ...          ...         ...         ...   \n",
      "2830738  ...                    20          0.0         0.0           0   \n",
      "2830739  ...                    20          0.0         0.0           0   \n",
      "2830740  ...                    32          0.0         0.0           0   \n",
      "2830741  ...                    20          0.0         0.0           0   \n",
      "2830742  ...                    20          0.0         0.0           0   \n",
      "\n",
      "         Active Min  Idle Mean  Idle Std  Idle Max  Idle Min   Label  \n",
      "0                 0        0.0       0.0         0         0  BENIGN  \n",
      "1                 0        0.0       0.0         0         0  BENIGN  \n",
      "2                 0        0.0       0.0         0         0  BENIGN  \n",
      "3                 0        0.0       0.0         0         0  BENIGN  \n",
      "4                 0        0.0       0.0         0         0  BENIGN  \n",
      "...             ...        ...       ...       ...       ...     ...  \n",
      "2830738           0        0.0       0.0         0         0  BENIGN  \n",
      "2830739           0        0.0       0.0         0         0  BENIGN  \n",
      "2830740           0        0.0       0.0         0         0  BENIGN  \n",
      "2830741           0        0.0       0.0         0         0  BENIGN  \n",
      "2830742           0        0.0       0.0         0         0  BENIGN  \n",
      "\n",
      "[2830743 rows x 79 columns]>\n"
     ]
    }
   ],
   "source": [
    "print(full_traffic_data.head)"
   ]
  },
  {
   "cell_type": "code",
   "execution_count": 19,
   "metadata": {},
   "outputs": [
    {
     "name": "stdout",
     "output_type": "stream",
     "text": [
      "Index(['Destination Port', 'Flow Duration', 'Total Fwd Packets',\n",
      "       'Total Backward Packets', 'Total Length of Fwd Packets',\n",
      "       'Total Length of Bwd Packets', 'Fwd Packet Length Max',\n",
      "       'Fwd Packet Length Min', 'Fwd Packet Length Mean',\n",
      "       'Fwd Packet Length Std', 'Bwd Packet Length Max',\n",
      "       'Bwd Packet Length Min', 'Bwd Packet Length Mean',\n",
      "       'Bwd Packet Length Std', 'Flow Bytes/s', 'Flow Packets/s',\n",
      "       'Flow IAT Mean', 'Flow IAT Std', 'Flow IAT Max', 'Flow IAT Min',\n",
      "       'Fwd IAT Total', 'Fwd IAT Mean', 'Fwd IAT Std', 'Fwd IAT Max',\n",
      "       'Fwd IAT Min', 'Bwd IAT Total', 'Bwd IAT Mean', 'Bwd IAT Std',\n",
      "       'Bwd IAT Max', 'Bwd IAT Min', 'Fwd PSH Flags', 'Bwd PSH Flags',\n",
      "       'Fwd URG Flags', 'Bwd URG Flags', 'Fwd Header Length',\n",
      "       'Bwd Header Length', 'Fwd Packets/s', 'Bwd Packets/s',\n",
      "       'Min Packet Length', 'Max Packet Length', 'Packet Length Mean',\n",
      "       'Packet Length Std', 'Packet Length Variance', 'FIN Flag Count',\n",
      "       'SYN Flag Count', 'RST Flag Count', 'PSH Flag Count', 'ACK Flag Count',\n",
      "       'URG Flag Count', 'CWE Flag Count', 'ECE Flag Count', 'Down/Up Ratio',\n",
      "       'Average Packet Size', 'Avg Fwd Segment Size', 'Avg Bwd Segment Size',\n",
      "       'Fwd Header Length.1', 'Fwd Avg Bytes/Bulk', 'Fwd Avg Packets/Bulk',\n",
      "       'Fwd Avg Bulk Rate', 'Bwd Avg Bytes/Bulk', 'Bwd Avg Packets/Bulk',\n",
      "       'Bwd Avg Bulk Rate', 'Subflow Fwd Packets', 'Subflow Fwd Bytes',\n",
      "       'Subflow Bwd Packets', 'Subflow Bwd Bytes', 'Init_Win_bytes_forward',\n",
      "       'Init_Win_bytes_backward', 'act_data_pkt_fwd', 'min_seg_size_forward',\n",
      "       'Active Mean', 'Active Std', 'Active Max', 'Active Min', 'Idle Mean',\n",
      "       'Idle Std', 'Idle Max', 'Idle Min', 'Label'],\n",
      "      dtype='object')\n"
     ]
    }
   ],
   "source": [
    "print(full_traffic_data.columns)"
   ]
  },
  {
   "cell_type": "code",
   "execution_count": 25,
   "metadata": {},
   "outputs": [
    {
     "name": "stdout",
     "output_type": "stream",
     "text": [
      "Subset shape: (94358, 79)\n"
     ]
    },
    {
     "name": "stderr",
     "output_type": "stream",
     "text": [
      "C:\\Users\\tykun\\AppData\\Local\\Temp\\ipykernel_11832\\2550533970.py:41: SettingWithCopyWarning: \n",
      "A value is trying to be set on a copy of a slice from a DataFrame\n",
      "\n",
      "See the caveats in the documentation: https://pandas.pydata.org/pandas-docs/stable/user_guide/indexing.html#returning-a-view-versus-a-copy\n",
      "  X.replace([np.inf, -np.inf], np.nan, inplace=True)\n",
      "c:\\Python312\\Lib\\site-packages\\sklearn\\linear_model\\_logistic.py:465: ConvergenceWarning: lbfgs failed to converge (status=1):\n",
      "STOP: TOTAL NO. OF ITERATIONS REACHED LIMIT.\n",
      "\n",
      "Increase the number of iterations (max_iter) or scale the data as shown in:\n",
      "    https://scikit-learn.org/stable/modules/preprocessing.html\n",
      "Please also refer to the documentation for alternative solver options:\n",
      "    https://scikit-learn.org/stable/modules/linear_model.html#logistic-regression\n",
      "  n_iter_i = _check_optimize_result(\n",
      "c:\\Python312\\Lib\\site-packages\\sklearn\\metrics\\_classification.py:1565: UndefinedMetricWarning: Precision is ill-defined and being set to 0.0 in labels with no predicted samples. Use `zero_division` parameter to control this behavior.\n",
      "  _warn_prf(average, modifier, f\"{metric.capitalize()} is\", len(result))\n",
      "c:\\Python312\\Lib\\site-packages\\sklearn\\metrics\\_classification.py:1565: UndefinedMetricWarning: Recall is ill-defined and being set to 0.0 in labels with no true samples. Use `zero_division` parameter to control this behavior.\n",
      "  _warn_prf(average, modifier, f\"{metric.capitalize()} is\", len(result))\n",
      "c:\\Python312\\Lib\\site-packages\\sklearn\\metrics\\_classification.py:1565: UndefinedMetricWarning: Precision is ill-defined and being set to 0.0 in labels with no predicted samples. Use `zero_division` parameter to control this behavior.\n",
      "  _warn_prf(average, modifier, f\"{metric.capitalize()} is\", len(result))\n",
      "c:\\Python312\\Lib\\site-packages\\sklearn\\metrics\\_classification.py:1565: UndefinedMetricWarning: Recall is ill-defined and being set to 0.0 in labels with no true samples. Use `zero_division` parameter to control this behavior.\n",
      "  _warn_prf(average, modifier, f\"{metric.capitalize()} is\", len(result))\n"
     ]
    },
    {
     "name": "stdout",
     "output_type": "stream",
     "text": [
      "Accuracy: 0.8438306751069774\n",
      "\n",
      "Classification Report:\n",
      "                           precision    recall  f1-score   support\n",
      "\n",
      "                  BENIGN       0.88      0.94      0.91     22686\n",
      "                     Bot       0.00      0.00      0.00        18\n",
      "                    DDoS       0.37      0.42      0.39      1246\n",
      "           DoS GoldenEye       0.83      0.28      0.42       102\n",
      "                DoS Hulk       0.84      0.82      0.83      2398\n",
      "        DoS Slowhttptest       0.00      0.00      0.00        61\n",
      "           DoS slowloris       0.21      0.25      0.23        61\n",
      "             FTP-Patator       0.00      0.00      0.00        87\n",
      "              Heartbleed       0.00      0.00      0.00         0\n",
      "                PortScan       0.00      0.00      0.00      1543\n",
      "             SSH-Patator       0.00      0.00      0.00        60\n",
      "Web Attack � Brute Force       0.00      0.00      0.00        10\n",
      "        Web Attack � XSS       0.00      0.00      0.00         5\n",
      "\n",
      "                accuracy                           0.84     28277\n",
      "               macro avg       0.24      0.21      0.21     28277\n",
      "            weighted avg       0.79      0.84      0.82     28277\n",
      "\n"
     ]
    },
    {
     "name": "stderr",
     "output_type": "stream",
     "text": [
      "c:\\Python312\\Lib\\site-packages\\sklearn\\metrics\\_classification.py:1565: UndefinedMetricWarning: Precision is ill-defined and being set to 0.0 in labels with no predicted samples. Use `zero_division` parameter to control this behavior.\n",
      "  _warn_prf(average, modifier, f\"{metric.capitalize()} is\", len(result))\n",
      "c:\\Python312\\Lib\\site-packages\\sklearn\\metrics\\_classification.py:1565: UndefinedMetricWarning: Recall is ill-defined and being set to 0.0 in labels with no true samples. Use `zero_division` parameter to control this behavior.\n",
      "  _warn_prf(average, modifier, f\"{metric.capitalize()} is\", len(result))\n"
     ]
    }
   ],
   "source": [
    "import numpy as np\n",
    "subset_data = full_traffic_data.sample(frac=1/30, random_state=42)\n",
    "print(\"Subset shape:\", subset_data.shape)\n",
    "\n",
    "# Define your selected features and target variable.\n",
    "selected_features = [\n",
    "    'Flow Duration',                 # Overall duration of the flow\n",
    "    'Total Fwd Packets',             # Number of forward packets\n",
    "    'Total Backward Packets',        # Number of backward packets\n",
    "    'Total Length of Fwd Packets',   # Total bytes in forward direction\n",
    "    'Total Length of Bwd Packets',   # Total bytes in backward direction\n",
    "    'Fwd Packet Length Mean',        # Average forward packet size\n",
    "    'Bwd Packet Length Mean',        # Average backward packet size\n",
    "    'Flow Bytes/s',                  # Bytes transmitted per second\n",
    "    'Flow Packets/s',                # Packets transmitted per second\n",
    "    'Flow IAT Mean',                 # Mean inter-arrival time of packets in the flow\n",
    "    'Flow IAT Std',                  # Std of inter-arrival times in the flow\n",
    "    'Fwd IAT Mean',                  # Mean inter-arrival time for forward packets\n",
    "    'Fwd IAT Std',                   # Std for forward inter-arrival times\n",
    "    'Bwd IAT Mean',                  # Mean inter-arrival time for backward packets\n",
    "    'Bwd IAT Std',                   # Std for backward inter-arrival times\n",
    "    'Down/Up Ratio',                 # Ratio of downlink to uplink traffic\n",
    "    'Average Packet Size',           # Overall average packet size in the flow\n",
    "    'Destination Port',              # Port number indicating service type\n",
    "    'SYN Flag Count',                # Number of SYN flags\n",
    "    'ACK Flag Count',                # Number of ACK flags\n",
    "    'RST Flag Count',                # Number of RST flags\n",
    "    'Fwd PSH Flags',                 # Forward PSH flag count\n",
    "    'Bwd PSH Flags',                 # Backward PSH flag count\n",
    "    'Subflow Fwd Packets',           # Packets in forward subflows\n",
    "    'Subflow Bwd Packets',           # Packets in backward subflows\n",
    "    'Active Mean',                   # Average duration of active periods\n",
    "    'Active Std',                    # Variation in active periods\n",
    "    'Idle Mean',                     # Average idle time\n",
    "    'Idle Std'                       # Variation in idle time\n",
    "]\n",
    "\n",
    "X = subset_data[selected_features]\n",
    "y = subset_data['Label']\n",
    "\n",
    "X.replace([np.inf, -np.inf], np.nan, inplace=True)\n",
    "X = X.dropna()\n",
    "y = y[X.index]  \n",
    "\n",
    "\n",
    "# Split the subset into training and testing sets (70% train, 30% test).\n",
    "X_train, X_test, y_train, y_test = train_test_split(X, y, test_size=0.3, random_state=42)\n",
    "\n",
    "# Initialize and train the logistic regression model.\n",
    "model = LogisticRegression(max_iter=1000)\n",
    "model.fit(X_train, y_train)\n",
    "\n",
    "# Make predictions on the test set.\n",
    "y_pred = model.predict(X_test)\n",
    "\n",
    "# Evaluate model performance.\n",
    "print(\"Accuracy:\", accuracy_score(y_test, y_pred))\n",
    "print(\"\\nClassification Report:\\n\", classification_report(y_test, y_pred))"
   ]
  },
  {
   "cell_type": "code",
   "execution_count": 24,
   "metadata": {},
   "outputs": [
    {
     "ename": "ValueError",
     "evalue": "Pandas data cast to numpy dtype of object. Check input data with np.asarray(data).",
     "output_type": "error",
     "traceback": [
      "\u001b[31m---------------------------------------------------------------------------\u001b[39m",
      "\u001b[31mValueError\u001b[39m                                Traceback (most recent call last)",
      "\u001b[36mCell\u001b[39m\u001b[36m \u001b[39m\u001b[32mIn[24]\u001b[39m\u001b[32m, line 4\u001b[39m\n\u001b[32m      1\u001b[39m X_train_const = sm.add_constant(X_train)\n\u001b[32m      3\u001b[39m \u001b[38;5;66;03m# Fit the logistic regression model with statsmodels\u001b[39;00m\n\u001b[32m----> \u001b[39m\u001b[32m4\u001b[39m logit_model = \u001b[43msm\u001b[49m\u001b[43m.\u001b[49m\u001b[43mLogit\u001b[49m\u001b[43m(\u001b[49m\u001b[43my_train\u001b[49m\u001b[43m,\u001b[49m\u001b[43m \u001b[49m\u001b[43mX_train_const\u001b[49m\u001b[43m)\u001b[49m\n\u001b[32m      5\u001b[39m result = logit_model.fit()\n\u001b[32m      7\u001b[39m \u001b[38;5;66;03m# Display the summary, which includes coefficient estimates, standard errors, z-values, and p-values.\u001b[39;00m\n",
      "\u001b[36mFile \u001b[39m\u001b[32mc:\\Python312\\Lib\\site-packages\\statsmodels\\discrete\\discrete_model.py:475\u001b[39m, in \u001b[36mBinaryModel.__init__\u001b[39m\u001b[34m(self, endog, exog, offset, check_rank, **kwargs)\u001b[39m\n\u001b[32m    472\u001b[39m \u001b[38;5;28;01mdef\u001b[39;00m\u001b[38;5;250m \u001b[39m\u001b[34m__init__\u001b[39m(\u001b[38;5;28mself\u001b[39m, endog, exog, offset=\u001b[38;5;28;01mNone\u001b[39;00m, check_rank=\u001b[38;5;28;01mTrue\u001b[39;00m, **kwargs):\n\u001b[32m    473\u001b[39m     \u001b[38;5;66;03m# unconditional check, requires no extra kwargs added by subclasses\u001b[39;00m\n\u001b[32m    474\u001b[39m     \u001b[38;5;28mself\u001b[39m._check_kwargs(kwargs)\n\u001b[32m--> \u001b[39m\u001b[32m475\u001b[39m     \u001b[38;5;28;43msuper\u001b[39;49m\u001b[43m(\u001b[49m\u001b[43m)\u001b[49m\u001b[43m.\u001b[49m\u001b[34;43m__init__\u001b[39;49m\u001b[43m(\u001b[49m\u001b[43mendog\u001b[49m\u001b[43m,\u001b[49m\u001b[43m \u001b[49m\u001b[43mexog\u001b[49m\u001b[43m,\u001b[49m\u001b[43m \u001b[49m\u001b[43moffset\u001b[49m\u001b[43m=\u001b[49m\u001b[43moffset\u001b[49m\u001b[43m,\u001b[49m\u001b[43m \u001b[49m\u001b[43mcheck_rank\u001b[49m\u001b[43m=\u001b[49m\u001b[43mcheck_rank\u001b[49m\u001b[43m,\u001b[49m\n\u001b[32m    476\u001b[39m \u001b[43m                     \u001b[49m\u001b[43m*\u001b[49m\u001b[43m*\u001b[49m\u001b[43mkwargs\u001b[49m\u001b[43m)\u001b[49m\n\u001b[32m    477\u001b[39m     \u001b[38;5;28;01mif\u001b[39;00m \u001b[38;5;129;01mnot\u001b[39;00m \u001b[38;5;28missubclass\u001b[39m(\u001b[38;5;28mself\u001b[39m.\u001b[34m__class__\u001b[39m, MultinomialModel):\n\u001b[32m    478\u001b[39m         \u001b[38;5;28;01mif\u001b[39;00m \u001b[38;5;129;01mnot\u001b[39;00m np.all((\u001b[38;5;28mself\u001b[39m.endog >= \u001b[32m0\u001b[39m) & (\u001b[38;5;28mself\u001b[39m.endog <= \u001b[32m1\u001b[39m)):\n",
      "\u001b[36mFile \u001b[39m\u001b[32mc:\\Python312\\Lib\\site-packages\\statsmodels\\discrete\\discrete_model.py:185\u001b[39m, in \u001b[36mDiscreteModel.__init__\u001b[39m\u001b[34m(self, endog, exog, check_rank, **kwargs)\u001b[39m\n\u001b[32m    183\u001b[39m \u001b[38;5;28;01mdef\u001b[39;00m\u001b[38;5;250m \u001b[39m\u001b[34m__init__\u001b[39m(\u001b[38;5;28mself\u001b[39m, endog, exog, check_rank=\u001b[38;5;28;01mTrue\u001b[39;00m, **kwargs):\n\u001b[32m    184\u001b[39m     \u001b[38;5;28mself\u001b[39m._check_rank = check_rank\n\u001b[32m--> \u001b[39m\u001b[32m185\u001b[39m     \u001b[38;5;28;43msuper\u001b[39;49m\u001b[43m(\u001b[49m\u001b[43m)\u001b[49m\u001b[43m.\u001b[49m\u001b[34;43m__init__\u001b[39;49m\u001b[43m(\u001b[49m\u001b[43mendog\u001b[49m\u001b[43m,\u001b[49m\u001b[43m \u001b[49m\u001b[43mexog\u001b[49m\u001b[43m,\u001b[49m\u001b[43m \u001b[49m\u001b[43m*\u001b[49m\u001b[43m*\u001b[49m\u001b[43mkwargs\u001b[49m\u001b[43m)\u001b[49m\n\u001b[32m    186\u001b[39m     \u001b[38;5;28mself\u001b[39m.raise_on_perfect_prediction = \u001b[38;5;28;01mFalse\u001b[39;00m  \u001b[38;5;66;03m# keep for backwards compat\u001b[39;00m\n\u001b[32m    187\u001b[39m     \u001b[38;5;28mself\u001b[39m.k_extra = \u001b[32m0\u001b[39m\n",
      "\u001b[36mFile \u001b[39m\u001b[32mc:\\Python312\\Lib\\site-packages\\statsmodels\\base\\model.py:270\u001b[39m, in \u001b[36mLikelihoodModel.__init__\u001b[39m\u001b[34m(self, endog, exog, **kwargs)\u001b[39m\n\u001b[32m    269\u001b[39m \u001b[38;5;28;01mdef\u001b[39;00m\u001b[38;5;250m \u001b[39m\u001b[34m__init__\u001b[39m(\u001b[38;5;28mself\u001b[39m, endog, exog=\u001b[38;5;28;01mNone\u001b[39;00m, **kwargs):\n\u001b[32m--> \u001b[39m\u001b[32m270\u001b[39m     \u001b[38;5;28;43msuper\u001b[39;49m\u001b[43m(\u001b[49m\u001b[43m)\u001b[49m\u001b[43m.\u001b[49m\u001b[34;43m__init__\u001b[39;49m\u001b[43m(\u001b[49m\u001b[43mendog\u001b[49m\u001b[43m,\u001b[49m\u001b[43m \u001b[49m\u001b[43mexog\u001b[49m\u001b[43m,\u001b[49m\u001b[43m \u001b[49m\u001b[43m*\u001b[49m\u001b[43m*\u001b[49m\u001b[43mkwargs\u001b[49m\u001b[43m)\u001b[49m\n\u001b[32m    271\u001b[39m     \u001b[38;5;28mself\u001b[39m.initialize()\n",
      "\u001b[36mFile \u001b[39m\u001b[32mc:\\Python312\\Lib\\site-packages\\statsmodels\\base\\model.py:95\u001b[39m, in \u001b[36mModel.__init__\u001b[39m\u001b[34m(self, endog, exog, **kwargs)\u001b[39m\n\u001b[32m     93\u001b[39m missing = kwargs.pop(\u001b[33m'\u001b[39m\u001b[33mmissing\u001b[39m\u001b[33m'\u001b[39m, \u001b[33m'\u001b[39m\u001b[33mnone\u001b[39m\u001b[33m'\u001b[39m)\n\u001b[32m     94\u001b[39m hasconst = kwargs.pop(\u001b[33m'\u001b[39m\u001b[33mhasconst\u001b[39m\u001b[33m'\u001b[39m, \u001b[38;5;28;01mNone\u001b[39;00m)\n\u001b[32m---> \u001b[39m\u001b[32m95\u001b[39m \u001b[38;5;28mself\u001b[39m.data = \u001b[38;5;28;43mself\u001b[39;49m\u001b[43m.\u001b[49m\u001b[43m_handle_data\u001b[49m\u001b[43m(\u001b[49m\u001b[43mendog\u001b[49m\u001b[43m,\u001b[49m\u001b[43m \u001b[49m\u001b[43mexog\u001b[49m\u001b[43m,\u001b[49m\u001b[43m \u001b[49m\u001b[43mmissing\u001b[49m\u001b[43m,\u001b[49m\u001b[43m \u001b[49m\u001b[43mhasconst\u001b[49m\u001b[43m,\u001b[49m\n\u001b[32m     96\u001b[39m \u001b[43m                              \u001b[49m\u001b[43m*\u001b[49m\u001b[43m*\u001b[49m\u001b[43mkwargs\u001b[49m\u001b[43m)\u001b[49m\n\u001b[32m     97\u001b[39m \u001b[38;5;28mself\u001b[39m.k_constant = \u001b[38;5;28mself\u001b[39m.data.k_constant\n\u001b[32m     98\u001b[39m \u001b[38;5;28mself\u001b[39m.exog = \u001b[38;5;28mself\u001b[39m.data.exog\n",
      "\u001b[36mFile \u001b[39m\u001b[32mc:\\Python312\\Lib\\site-packages\\statsmodels\\base\\model.py:135\u001b[39m, in \u001b[36mModel._handle_data\u001b[39m\u001b[34m(self, endog, exog, missing, hasconst, **kwargs)\u001b[39m\n\u001b[32m    134\u001b[39m \u001b[38;5;28;01mdef\u001b[39;00m\u001b[38;5;250m \u001b[39m\u001b[34m_handle_data\u001b[39m(\u001b[38;5;28mself\u001b[39m, endog, exog, missing, hasconst, **kwargs):\n\u001b[32m--> \u001b[39m\u001b[32m135\u001b[39m     data = \u001b[43mhandle_data\u001b[49m\u001b[43m(\u001b[49m\u001b[43mendog\u001b[49m\u001b[43m,\u001b[49m\u001b[43m \u001b[49m\u001b[43mexog\u001b[49m\u001b[43m,\u001b[49m\u001b[43m \u001b[49m\u001b[43mmissing\u001b[49m\u001b[43m,\u001b[49m\u001b[43m \u001b[49m\u001b[43mhasconst\u001b[49m\u001b[43m,\u001b[49m\u001b[43m \u001b[49m\u001b[43m*\u001b[49m\u001b[43m*\u001b[49m\u001b[43mkwargs\u001b[49m\u001b[43m)\u001b[49m\n\u001b[32m    136\u001b[39m     \u001b[38;5;66;03m# kwargs arrays could have changed, easier to just attach here\u001b[39;00m\n\u001b[32m    137\u001b[39m     \u001b[38;5;28;01mfor\u001b[39;00m key \u001b[38;5;129;01min\u001b[39;00m kwargs:\n",
      "\u001b[36mFile \u001b[39m\u001b[32mc:\\Python312\\Lib\\site-packages\\statsmodels\\base\\data.py:675\u001b[39m, in \u001b[36mhandle_data\u001b[39m\u001b[34m(endog, exog, missing, hasconst, **kwargs)\u001b[39m\n\u001b[32m    672\u001b[39m     exog = np.asarray(exog)\n\u001b[32m    674\u001b[39m klass = handle_data_class_factory(endog, exog)\n\u001b[32m--> \u001b[39m\u001b[32m675\u001b[39m \u001b[38;5;28;01mreturn\u001b[39;00m \u001b[43mklass\u001b[49m\u001b[43m(\u001b[49m\u001b[43mendog\u001b[49m\u001b[43m,\u001b[49m\u001b[43m \u001b[49m\u001b[43mexog\u001b[49m\u001b[43m=\u001b[49m\u001b[43mexog\u001b[49m\u001b[43m,\u001b[49m\u001b[43m \u001b[49m\u001b[43mmissing\u001b[49m\u001b[43m=\u001b[49m\u001b[43mmissing\u001b[49m\u001b[43m,\u001b[49m\u001b[43m \u001b[49m\u001b[43mhasconst\u001b[49m\u001b[43m=\u001b[49m\u001b[43mhasconst\u001b[49m\u001b[43m,\u001b[49m\n\u001b[32m    676\u001b[39m \u001b[43m             \u001b[49m\u001b[43m*\u001b[49m\u001b[43m*\u001b[49m\u001b[43mkwargs\u001b[49m\u001b[43m)\u001b[49m\n",
      "\u001b[36mFile \u001b[39m\u001b[32mc:\\Python312\\Lib\\site-packages\\statsmodels\\base\\data.py:84\u001b[39m, in \u001b[36mModelData.__init__\u001b[39m\u001b[34m(self, endog, exog, missing, hasconst, **kwargs)\u001b[39m\n\u001b[32m     82\u001b[39m     \u001b[38;5;28mself\u001b[39m.orig_endog = endog\n\u001b[32m     83\u001b[39m     \u001b[38;5;28mself\u001b[39m.orig_exog = exog\n\u001b[32m---> \u001b[39m\u001b[32m84\u001b[39m     \u001b[38;5;28mself\u001b[39m.endog, \u001b[38;5;28mself\u001b[39m.exog = \u001b[38;5;28;43mself\u001b[39;49m\u001b[43m.\u001b[49m\u001b[43m_convert_endog_exog\u001b[49m\u001b[43m(\u001b[49m\u001b[43mendog\u001b[49m\u001b[43m,\u001b[49m\u001b[43m \u001b[49m\u001b[43mexog\u001b[49m\u001b[43m)\u001b[49m\n\u001b[32m     86\u001b[39m \u001b[38;5;28mself\u001b[39m.const_idx = \u001b[38;5;28;01mNone\u001b[39;00m\n\u001b[32m     87\u001b[39m \u001b[38;5;28mself\u001b[39m.k_constant = \u001b[32m0\u001b[39m\n",
      "\u001b[36mFile \u001b[39m\u001b[32mc:\\Python312\\Lib\\site-packages\\statsmodels\\base\\data.py:509\u001b[39m, in \u001b[36mPandasData._convert_endog_exog\u001b[39m\u001b[34m(self, endog, exog)\u001b[39m\n\u001b[32m    507\u001b[39m exog = exog \u001b[38;5;28;01mif\u001b[39;00m exog \u001b[38;5;129;01mis\u001b[39;00m \u001b[38;5;28;01mNone\u001b[39;00m \u001b[38;5;28;01melse\u001b[39;00m np.asarray(exog)\n\u001b[32m    508\u001b[39m \u001b[38;5;28;01mif\u001b[39;00m endog.dtype == \u001b[38;5;28mobject\u001b[39m \u001b[38;5;129;01mor\u001b[39;00m exog \u001b[38;5;129;01mis\u001b[39;00m \u001b[38;5;129;01mnot\u001b[39;00m \u001b[38;5;28;01mNone\u001b[39;00m \u001b[38;5;129;01mand\u001b[39;00m exog.dtype == \u001b[38;5;28mobject\u001b[39m:\n\u001b[32m--> \u001b[39m\u001b[32m509\u001b[39m     \u001b[38;5;28;01mraise\u001b[39;00m \u001b[38;5;167;01mValueError\u001b[39;00m(\u001b[33m\"\u001b[39m\u001b[33mPandas data cast to numpy dtype of object. \u001b[39m\u001b[33m\"\u001b[39m\n\u001b[32m    510\u001b[39m                      \u001b[33m\"\u001b[39m\u001b[33mCheck input data with np.asarray(data).\u001b[39m\u001b[33m\"\u001b[39m)\n\u001b[32m    511\u001b[39m \u001b[38;5;28;01mreturn\u001b[39;00m \u001b[38;5;28msuper\u001b[39m()._convert_endog_exog(endog, exog)\n",
      "\u001b[31mValueError\u001b[39m: Pandas data cast to numpy dtype of object. Check input data with np.asarray(data)."
     ]
    }
   ],
   "source": [
    "X_train_const = sm.add_constant(X_train)\n",
    "\n",
    "# Fit the logistic regression model with statsmodels\n",
    "logit_model = sm.Logit(y_train, X_train_const)\n",
    "result = logit_model.fit()\n",
    "\n",
    "# Display the summary, which includes coefficient estimates, standard errors, z-values, and p-values.\n",
    "print(result.summary())"
   ]
  },
  {
   "cell_type": "code",
   "execution_count": null,
   "metadata": {},
   "outputs": [
    {
     "name": "stdout",
     "output_type": "stream",
     "text": [
      "Subset shape: (113230, 79)\n",
      "Classes retained for oversampling: ['BENIGN', 'DoS Hulk', 'PortScan', 'DDoS', 'DoS GoldenEye', 'FTP-Patator', 'DoS slowloris', 'SSH-Patator', 'DoS Slowhttptest', 'Bot', 'Web Attack � Brute Force', 'Web Attack � XSS']\n"
     ]
    },
    {
     "name": "stderr",
     "output_type": "stream",
     "text": [
      "c:\\Python312\\Lib\\site-packages\\sklearn\\linear_model\\_logistic.py:465: ConvergenceWarning: lbfgs failed to converge (status=1):\n",
      "STOP: TOTAL NO. OF ITERATIONS REACHED LIMIT.\n",
      "\n",
      "Increase the number of iterations (max_iter) or scale the data as shown in:\n",
      "    https://scikit-learn.org/stable/modules/preprocessing.html\n",
      "Please also refer to the documentation for alternative solver options:\n",
      "    https://scikit-learn.org/stable/modules/linear_model.html#logistic-regression\n",
      "  n_iter_i = _check_optimize_result(\n",
      "c:\\Python312\\Lib\\site-packages\\sklearn\\metrics\\_classification.py:1565: UndefinedMetricWarning: Precision is ill-defined and being set to 0.0 in labels with no predicted samples. Use `zero_division` parameter to control this behavior.\n",
      "  _warn_prf(average, modifier, f\"{metric.capitalize()} is\", len(result))\n"
     ]
    },
    {
     "name": "stdout",
     "output_type": "stream",
     "text": [
      "Accuracy: 0.05928935205628661\n",
      "\n",
      "Classification Report:\n",
      "                           precision    recall  f1-score   support\n",
      "\n",
      "                  BENIGN       0.81      0.03      0.06     27240\n",
      "                     Bot       0.00      0.65      0.00        26\n",
      "                    DDoS       0.01      0.00      0.01      1559\n",
      "           DoS GoldenEye       0.06      0.34      0.10       116\n",
      "                DoS Hulk       0.20      0.38      0.26      2752\n",
      "        DoS Slowhttptest       0.00      0.01      0.00        79\n",
      "           DoS slowloris       0.04      0.42      0.08        83\n",
      "             FTP-Patator       0.00      0.00      0.00       115\n",
      "              Heartbleed       0.00      0.00      0.00         1\n",
      "                PortScan       0.00      0.00      0.00      1912\n",
      "             SSH-Patator       0.00      0.44      0.01        64\n",
      "Web Attack � Brute Force       0.00      0.00      0.00        15\n",
      "        Web Attack � XSS       0.00      0.00      0.00         7\n",
      "\n",
      "                accuracy                           0.06     33969\n",
      "               macro avg       0.09      0.18      0.04     33969\n",
      "            weighted avg       0.67      0.06      0.07     33969\n",
      "\n"
     ]
    },
    {
     "name": "stderr",
     "output_type": "stream",
     "text": [
      "c:\\Python312\\Lib\\site-packages\\sklearn\\metrics\\_classification.py:1565: UndefinedMetricWarning: Precision is ill-defined and being set to 0.0 in labels with no predicted samples. Use `zero_division` parameter to control this behavior.\n",
      "  _warn_prf(average, modifier, f\"{metric.capitalize()} is\", len(result))\n",
      "c:\\Python312\\Lib\\site-packages\\sklearn\\metrics\\_classification.py:1565: UndefinedMetricWarning: Precision is ill-defined and being set to 0.0 in labels with no predicted samples. Use `zero_division` parameter to control this behavior.\n",
      "  _warn_prf(average, modifier, f\"{metric.capitalize()} is\", len(result))\n"
     ]
    }
   ],
   "source": [
    "# subset_data = full_traffic_data.sample(frac=1/25, random_state=42)\n",
    "# print(\"Subset shape:\", subset_data.shape)\n",
    "\n",
    "# # Define your selected features and target variable.\n",
    "# selected_features = [\n",
    "#     'Flow Duration',\n",
    "#     'Total Fwd Packets',\n",
    "#     'Total Backward Packets',\n",
    "#     'Average Packet Size',\n",
    "#     'Down/Up Ratio',\n",
    "#     'Fwd IAT Mean',\n",
    "#     'Bwd IAT Mean',\n",
    "#     'Fwd Packet Length Mean',\n",
    "#     'Bwd Packet Length Mean',\n",
    "#     'Destination Port'\n",
    "# ]\n",
    "\n",
    "# X = subset_data[selected_features]\n",
    "# y = subset_data['Label']\n",
    "\n",
    "# # Split the subset into training and testing sets (70% train, 30% test).\n",
    "# X_train, X_test, y_train, y_test = train_test_split(X, y, test_size=0.3, random_state=42)\n",
    "\n",
    "# # Identify classes in y_train that have at least 2 samples.\n",
    "# class_counts = y_train.value_counts()\n",
    "# classes_to_keep = class_counts[class_counts >= 2].index\n",
    "# print(\"Classes retained for oversampling:\", classes_to_keep.tolist())\n",
    "\n",
    "# # Filter out classes with fewer than 2 samples from the training set.\n",
    "# X_train_filtered = X_train[y_train.isin(classes_to_keep)]\n",
    "# y_train_filtered = y_train[y_train.isin(classes_to_keep)]\n",
    "\n",
    "# # Use SMOTE with k_neighbors set to 1 (now safe because every class has at least 2 samples).\n",
    "# smote = SMOTE(random_state=42, k_neighbors=1)\n",
    "# X_train_resampled, y_train_resampled = smote.fit_resample(X_train_filtered, y_train_filtered)\n",
    "\n",
    "# # Initialize and train the logistic regression model.\n",
    "# model = LogisticRegression(max_iter=1000)\n",
    "# model.fit(X_train_resampled, y_train_resampled)\n",
    "\n",
    "# # Make predictions on the test set.\n",
    "# y_pred = model.predict(X_test)\n",
    "\n",
    "# # Evaluate model performance.\n",
    "# print(\"Accuracy:\", accuracy_score(y_test, y_pred))\n",
    "# print(\"\\nClassification Report:\\n\", classification_report(y_test, y_pred))\n"
   ]
  },
  {
   "cell_type": "code",
   "execution_count": null,
   "metadata": {},
   "outputs": [],
   "source": []
  }
 ],
 "metadata": {
  "kernelspec": {
   "display_name": "Python 3",
   "language": "python",
   "name": "python3"
  },
  "language_info": {
   "codemirror_mode": {
    "name": "ipython",
    "version": 3
   },
   "file_extension": ".py",
   "mimetype": "text/x-python",
   "name": "python",
   "nbconvert_exporter": "python",
   "pygments_lexer": "ipython3",
   "version": "3.12.4"
  }
 },
 "nbformat": 4,
 "nbformat_minor": 2
}

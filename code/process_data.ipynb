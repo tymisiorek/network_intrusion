{
 "cells": [
  {
   "cell_type": "code",
   "execution_count": 48,
   "metadata": {},
   "outputs": [],
   "source": [
    "import pandas as pd\n",
    "import os\n",
    "\n",
    "from sklearn.model_selection import train_test_split\n",
    "from sklearn.linear_model import LogisticRegression\n",
    "from sklearn.metrics import accuracy_score, classification_report\n",
    "from sklearn.preprocessing import StandardScaler\n",
    "from imblearn.over_sampling import SMOTE"
   ]
  },
  {
   "cell_type": "code",
   "execution_count": 49,
   "metadata": {},
   "outputs": [],
   "source": [
    "data_path = os.path.join('..', 'data', 'MachineLearningCVE')"
   ]
  },
  {
   "cell_type": "code",
   "execution_count": 50,
   "metadata": {},
   "outputs": [
    {
     "name": "stdout",
     "output_type": "stream",
     "text": [
      "{' Fwd Packet Length Min', ' PSH Flag Count', ' Subflow Bwd Packets', ' Fwd Avg Bulk Rate', ' Min Packet Length', ' Fwd IAT Std', 'Fwd Avg Bytes/Bulk', ' Fwd Packet Length Max', ' Fwd IAT Max', ' Active Max', 'FIN Flag Count', ' Total Fwd Packets', ' ACK Flag Count', ' Bwd Avg Packets/Bulk', ' min_seg_size_forward', ' Bwd Header Length', ' Flow IAT Max', ' SYN Flag Count', ' URG Flag Count', ' Fwd Header Length', ' Subflow Fwd Bytes', 'Bwd Packet Length Max', ' Average Packet Size', ' Bwd Packet Length Std', ' Idle Max', ' Bwd Packet Length Min', 'Fwd PSH Flags', ' Active Min', ' Bwd Packets/s', ' Fwd URG Flags', ' Bwd PSH Flags', ' Total Backward Packets', ' Total Length of Bwd Packets', 'Init_Win_bytes_forward', ' Down/Up Ratio', ' Fwd IAT Min', ' Bwd IAT Std', ' Fwd Packet Length Mean', ' Bwd IAT Mean', 'Fwd IAT Total', ' Idle Std', 'Total Length of Fwd Packets', ' Fwd Header Length.1', ' Flow IAT Mean', 'Active Mean', ' Active Std', ' Packet Length Std', ' Bwd URG Flags', ' Fwd Packet Length Std', ' Subflow Bwd Bytes', 'Subflow Fwd Packets', ' Flow IAT Std', ' Avg Fwd Segment Size', 'Bwd Avg Bulk Rate', ' Flow Packets/s', 'Bwd IAT Total', ' Bwd Packet Length Mean', ' Max Packet Length', 'Fwd Packets/s', ' Packet Length Mean', ' Idle Min', ' Destination Port', ' Fwd Avg Packets/Bulk', ' Avg Bwd Segment Size', ' Fwd IAT Mean', ' Label', ' Bwd Avg Bytes/Bulk', ' Packet Length Variance', 'Idle Mean', ' Bwd IAT Min', ' Bwd IAT Max', ' RST Flag Count', ' Flow IAT Min', ' CWE Flag Count', ' act_data_pkt_fwd', ' Flow Duration', 'Flow Bytes/s', ' ECE Flag Count', ' Init_Win_bytes_backward'}\n"
     ]
    }
   ],
   "source": [
    "cols = set()\n",
    "dfs = []\n",
    "\n",
    "for file in os.listdir(data_path):\n",
    "    path = os.path.join(data_path, file)\n",
    "    traffic_df = pd.read_csv(path)\n",
    "    dfs.append(traffic_df)\n",
    "    cols.update(traffic_df.columns)\n",
    "full_traffic_data = pd.concat(dfs, ignore_index = True)\n",
    "full_traffic_data.columns = full_traffic_data.columns.str.strip()\n",
    "print(cols)"
   ]
  },
  {
   "cell_type": "code",
   "execution_count": 51,
   "metadata": {},
   "outputs": [
    {
     "name": "stdout",
     "output_type": "stream",
     "text": [
      "<bound method NDFrame.head of          Destination Port  Flow Duration  Total Fwd Packets  \\\n",
      "0                   54865              3                  2   \n",
      "1                   55054            109                  1   \n",
      "2                   55055             52                  1   \n",
      "3                   46236             34                  1   \n",
      "4                   54863              3                  2   \n",
      "...                   ...            ...                ...   \n",
      "2830738                53          32215                  4   \n",
      "2830739                53            324                  2   \n",
      "2830740             58030             82                  2   \n",
      "2830741                53        1048635                  6   \n",
      "2830742                53          94939                  4   \n",
      "\n",
      "         Total Backward Packets  Total Length of Fwd Packets  \\\n",
      "0                             0                           12   \n",
      "1                             1                            6   \n",
      "2                             1                            6   \n",
      "3                             1                            6   \n",
      "4                             0                           12   \n",
      "...                         ...                          ...   \n",
      "2830738                       2                          112   \n",
      "2830739                       2                           84   \n",
      "2830740                       1                           31   \n",
      "2830741                       2                          192   \n",
      "2830742                       2                          188   \n",
      "\n",
      "         Total Length of Bwd Packets  Fwd Packet Length Max  \\\n",
      "0                                  0                      6   \n",
      "1                                  6                      6   \n",
      "2                                  6                      6   \n",
      "3                                  6                      6   \n",
      "4                                  0                      6   \n",
      "...                              ...                    ...   \n",
      "2830738                          152                     28   \n",
      "2830739                          362                     42   \n",
      "2830740                            6                     31   \n",
      "2830741                          256                     32   \n",
      "2830742                          226                     47   \n",
      "\n",
      "         Fwd Packet Length Min  Fwd Packet Length Mean  Fwd Packet Length Std  \\\n",
      "0                            6                     6.0                0.00000   \n",
      "1                            6                     6.0                0.00000   \n",
      "2                            6                     6.0                0.00000   \n",
      "3                            6                     6.0                0.00000   \n",
      "4                            6                     6.0                0.00000   \n",
      "...                        ...                     ...                    ...   \n",
      "2830738                     28                    28.0                0.00000   \n",
      "2830739                     42                    42.0                0.00000   \n",
      "2830740                      0                    15.5               21.92031   \n",
      "2830741                     32                    32.0                0.00000   \n",
      "2830742                     47                    47.0                0.00000   \n",
      "\n",
      "         ...  min_seg_size_forward  Active Mean  Active Std  Active Max  \\\n",
      "0        ...                    20          0.0         0.0           0   \n",
      "1        ...                    20          0.0         0.0           0   \n",
      "2        ...                    20          0.0         0.0           0   \n",
      "3        ...                    20          0.0         0.0           0   \n",
      "4        ...                    20          0.0         0.0           0   \n",
      "...      ...                   ...          ...         ...         ...   \n",
      "2830738  ...                    20          0.0         0.0           0   \n",
      "2830739  ...                    20          0.0         0.0           0   \n",
      "2830740  ...                    32          0.0         0.0           0   \n",
      "2830741  ...                    20          0.0         0.0           0   \n",
      "2830742  ...                    20          0.0         0.0           0   \n",
      "\n",
      "         Active Min  Idle Mean  Idle Std  Idle Max  Idle Min   Label  \n",
      "0                 0        0.0       0.0         0         0  BENIGN  \n",
      "1                 0        0.0       0.0         0         0  BENIGN  \n",
      "2                 0        0.0       0.0         0         0  BENIGN  \n",
      "3                 0        0.0       0.0         0         0  BENIGN  \n",
      "4                 0        0.0       0.0         0         0  BENIGN  \n",
      "...             ...        ...       ...       ...       ...     ...  \n",
      "2830738           0        0.0       0.0         0         0  BENIGN  \n",
      "2830739           0        0.0       0.0         0         0  BENIGN  \n",
      "2830740           0        0.0       0.0         0         0  BENIGN  \n",
      "2830741           0        0.0       0.0         0         0  BENIGN  \n",
      "2830742           0        0.0       0.0         0         0  BENIGN  \n",
      "\n",
      "[2830743 rows x 79 columns]>\n"
     ]
    }
   ],
   "source": [
    "print(full_traffic_data.head)"
   ]
  },
  {
   "cell_type": "code",
   "execution_count": 52,
   "metadata": {},
   "outputs": [
    {
     "name": "stdout",
     "output_type": "stream",
     "text": [
      "Index(['Destination Port', 'Flow Duration', 'Total Fwd Packets',\n",
      "       'Total Backward Packets', 'Total Length of Fwd Packets',\n",
      "       'Total Length of Bwd Packets', 'Fwd Packet Length Max',\n",
      "       'Fwd Packet Length Min', 'Fwd Packet Length Mean',\n",
      "       'Fwd Packet Length Std', 'Bwd Packet Length Max',\n",
      "       'Bwd Packet Length Min', 'Bwd Packet Length Mean',\n",
      "       'Bwd Packet Length Std', 'Flow Bytes/s', 'Flow Packets/s',\n",
      "       'Flow IAT Mean', 'Flow IAT Std', 'Flow IAT Max', 'Flow IAT Min',\n",
      "       'Fwd IAT Total', 'Fwd IAT Mean', 'Fwd IAT Std', 'Fwd IAT Max',\n",
      "       'Fwd IAT Min', 'Bwd IAT Total', 'Bwd IAT Mean', 'Bwd IAT Std',\n",
      "       'Bwd IAT Max', 'Bwd IAT Min', 'Fwd PSH Flags', 'Bwd PSH Flags',\n",
      "       'Fwd URG Flags', 'Bwd URG Flags', 'Fwd Header Length',\n",
      "       'Bwd Header Length', 'Fwd Packets/s', 'Bwd Packets/s',\n",
      "       'Min Packet Length', 'Max Packet Length', 'Packet Length Mean',\n",
      "       'Packet Length Std', 'Packet Length Variance', 'FIN Flag Count',\n",
      "       'SYN Flag Count', 'RST Flag Count', 'PSH Flag Count', 'ACK Flag Count',\n",
      "       'URG Flag Count', 'CWE Flag Count', 'ECE Flag Count', 'Down/Up Ratio',\n",
      "       'Average Packet Size', 'Avg Fwd Segment Size', 'Avg Bwd Segment Size',\n",
      "       'Fwd Header Length.1', 'Fwd Avg Bytes/Bulk', 'Fwd Avg Packets/Bulk',\n",
      "       'Fwd Avg Bulk Rate', 'Bwd Avg Bytes/Bulk', 'Bwd Avg Packets/Bulk',\n",
      "       'Bwd Avg Bulk Rate', 'Subflow Fwd Packets', 'Subflow Fwd Bytes',\n",
      "       'Subflow Bwd Packets', 'Subflow Bwd Bytes', 'Init_Win_bytes_forward',\n",
      "       'Init_Win_bytes_backward', 'act_data_pkt_fwd', 'min_seg_size_forward',\n",
      "       'Active Mean', 'Active Std', 'Active Max', 'Active Min', 'Idle Mean',\n",
      "       'Idle Std', 'Idle Max', 'Idle Min', 'Label'],\n",
      "      dtype='object')\n"
     ]
    }
   ],
   "source": [
    "print(full_traffic_data.columns)"
   ]
  },
  {
   "cell_type": "code",
   "execution_count": 53,
   "metadata": {},
   "outputs": [],
   "source": [
    "# selected_features = [\n",
    "#     'Flow Duration',             # Overall time of the flow\n",
    "#     'Total Fwd Packets',         # Total packets in the forward direction\n",
    "#     'Total Backward Packets',    # Total packets in the backward direction\n",
    "#     'Average Packet Size',       # Mean packet size\n",
    "#     'Down/Up Ratio',             # Ratio between down and up flows\n",
    "#     'Fwd IAT Mean',              # Mean Inter-Arrival Time for forward packets\n",
    "#     'Bwd IAT Mean',              # Mean Inter-Arrival Time for backward packets\n",
    "#     'Fwd Packet Length Mean',    # Mean forward packet length\n",
    "#     'Bwd Packet Length Mean',    # Mean backward packet length\n",
    "#     'Destination Port'           # Destination port can sometimes be indicative\n",
    "# ]\n",
    "\n",
    "# # The dependent variable (target) is assumed to be 'Label'\n",
    "# X = full_traffic_data[selected_features]\n",
    "# y = full_traffic_data['Label']\n",
    "\n",
    "\n",
    "# scaler = StandardScaler()\n",
    "# X_scaled = scaler.fit_transform(X)\n",
    "\n",
    "# # Split the data into training and testing sets (e.g., 70% train, 30% test)\n",
    "# X_train, X_test, y_train, y_test = train_test_split(X, y, test_size=0.3, random_state=42)\n",
    "\n",
    "# # Initialize the logistic regression model. Increase max_iter if necessary.\n",
    "# model = LogisticRegression(max_iter=1000)\n",
    "\n",
    "# # Train the model on the training data.\n",
    "# model.fit(X_train, y_train)\n",
    "\n",
    "# # Predict the labels for the test set.\n",
    "# y_pred = model.predict(X_test)\n",
    "\n",
    "# # Evaluate model performance.\n",
    "# accuracy = accuracy_score(y_test, y_pred)\n",
    "# print(\"Accuracy:\", accuracy)\n",
    "# print(\"\\nClassification Report:\\n\", classification_report(y_test, y_pred))"
   ]
  },
  {
   "cell_type": "code",
   "execution_count": 54,
   "metadata": {},
   "outputs": [
    {
     "name": "stdout",
     "output_type": "stream",
     "text": [
      "Subset shape: (188716, 79)\n"
     ]
    },
    {
     "name": "stderr",
     "output_type": "stream",
     "text": [
      "c:\\Python312\\Lib\\site-packages\\sklearn\\linear_model\\_logistic.py:465: ConvergenceWarning: lbfgs failed to converge (status=1):\n",
      "STOP: TOTAL NO. OF ITERATIONS REACHED LIMIT.\n",
      "\n",
      "Increase the number of iterations (max_iter) or scale the data as shown in:\n",
      "    https://scikit-learn.org/stable/modules/preprocessing.html\n",
      "Please also refer to the documentation for alternative solver options:\n",
      "    https://scikit-learn.org/stable/modules/linear_model.html#logistic-regression\n",
      "  n_iter_i = _check_optimize_result(\n"
     ]
    },
    {
     "name": "stdout",
     "output_type": "stream",
     "text": [
      "Accuracy: 0.7964673673054844\n"
     ]
    },
    {
     "name": "stderr",
     "output_type": "stream",
     "text": [
      "c:\\Python312\\Lib\\site-packages\\sklearn\\metrics\\_classification.py:1565: UndefinedMetricWarning: Precision is ill-defined and being set to 0.0 in labels with no predicted samples. Use `zero_division` parameter to control this behavior.\n",
      "  _warn_prf(average, modifier, f\"{metric.capitalize()} is\", len(result))\n"
     ]
    },
    {
     "name": "stdout",
     "output_type": "stream",
     "text": [
      "\n",
      "Classification Report:\n",
      "                             precision    recall  f1-score   support\n",
      "\n",
      "                    BENIGN       0.85      0.95      0.90     45455\n",
      "                       Bot       0.00      0.00      0.00        38\n",
      "                      DDoS       0.00      0.00      0.00      2580\n",
      "             DoS GoldenEye       0.00      0.00      0.00       208\n",
      "                  DoS Hulk       0.33      0.41      0.37      4578\n",
      "          DoS Slowhttptest       0.00      0.00      0.00       104\n",
      "             DoS slowloris       0.00      0.00      0.00       110\n",
      "               FTP-Patator       0.00      0.00      0.00       177\n",
      "                  PortScan       0.00      0.00      0.00      3219\n",
      "               SSH-Patator       0.00      0.00      0.00       110\n",
      "  Web Attack � Brute Force       0.00      0.00      0.00        28\n",
      "Web Attack � Sql Injection       0.00      0.00      0.00         1\n",
      "          Web Attack � XSS       0.00      0.00      0.00         7\n",
      "\n",
      "                  accuracy                           0.80     56615\n",
      "                 macro avg       0.09      0.10      0.10     56615\n",
      "              weighted avg       0.71      0.80      0.75     56615\n",
      "\n"
     ]
    },
    {
     "name": "stderr",
     "output_type": "stream",
     "text": [
      "c:\\Python312\\Lib\\site-packages\\sklearn\\metrics\\_classification.py:1565: UndefinedMetricWarning: Precision is ill-defined and being set to 0.0 in labels with no predicted samples. Use `zero_division` parameter to control this behavior.\n",
      "  _warn_prf(average, modifier, f\"{metric.capitalize()} is\", len(result))\n",
      "c:\\Python312\\Lib\\site-packages\\sklearn\\metrics\\_classification.py:1565: UndefinedMetricWarning: Precision is ill-defined and being set to 0.0 in labels with no predicted samples. Use `zero_division` parameter to control this behavior.\n",
      "  _warn_prf(average, modifier, f\"{metric.capitalize()} is\", len(result))\n"
     ]
    }
   ],
   "source": [
    "subset_data = full_traffic_data.sample(frac=1/15, random_state=42)\n",
    "print(\"Subset shape:\", subset_data.shape)\n",
    "\n",
    "# Define your selected features and target variable.\n",
    "selected_features = [\n",
    "    'Flow Duration',\n",
    "    'Total Fwd Packets',\n",
    "    'Total Backward Packets',\n",
    "    'Average Packet Size',\n",
    "    'Down/Up Ratio',\n",
    "    'Fwd IAT Mean',\n",
    "    'Bwd IAT Mean',\n",
    "    'Fwd Packet Length Mean',\n",
    "    'Bwd Packet Length Mean',\n",
    "    'Destination Port'\n",
    "]\n",
    "\n",
    "X = subset_data[selected_features]\n",
    "y = subset_data['Label']\n",
    "\n",
    "# Split the subset into training and testing sets (70% train, 30% test).\n",
    "X_train, X_test, y_train, y_test = train_test_split(X, y, test_size=0.3, random_state=42)\n",
    "\n",
    "# Initialize and train the logistic regression model.\n",
    "model = LogisticRegression(max_iter=1000)\n",
    "model.fit(X_train, y_train)\n",
    "\n",
    "# Make predictions on the test set.\n",
    "y_pred = model.predict(X_test)\n",
    "\n",
    "# Evaluate model performance.\n",
    "print(\"Accuracy:\", accuracy_score(y_test, y_pred))\n",
    "print(\"\\nClassification Report:\\n\", classification_report(y_test, y_pred))"
   ]
  },
  {
   "cell_type": "code",
   "execution_count": null,
   "metadata": {},
   "outputs": [
    {
     "name": "stdout",
     "output_type": "stream",
     "text": [
      "Subset shape: (113230, 79)\n",
      "Classes retained for oversampling: ['BENIGN', 'DoS Hulk', 'PortScan', 'DDoS', 'DoS GoldenEye', 'FTP-Patator', 'DoS slowloris', 'SSH-Patator', 'DoS Slowhttptest', 'Bot', 'Web Attack � Brute Force', 'Web Attack � XSS']\n"
     ]
    },
    {
     "name": "stderr",
     "output_type": "stream",
     "text": [
      "c:\\Python312\\Lib\\site-packages\\sklearn\\linear_model\\_logistic.py:465: ConvergenceWarning: lbfgs failed to converge (status=1):\n",
      "STOP: TOTAL NO. OF ITERATIONS REACHED LIMIT.\n",
      "\n",
      "Increase the number of iterations (max_iter) or scale the data as shown in:\n",
      "    https://scikit-learn.org/stable/modules/preprocessing.html\n",
      "Please also refer to the documentation for alternative solver options:\n",
      "    https://scikit-learn.org/stable/modules/linear_model.html#logistic-regression\n",
      "  n_iter_i = _check_optimize_result(\n",
      "c:\\Python312\\Lib\\site-packages\\sklearn\\metrics\\_classification.py:1565: UndefinedMetricWarning: Precision is ill-defined and being set to 0.0 in labels with no predicted samples. Use `zero_division` parameter to control this behavior.\n",
      "  _warn_prf(average, modifier, f\"{metric.capitalize()} is\", len(result))\n"
     ]
    },
    {
     "name": "stdout",
     "output_type": "stream",
     "text": [
      "Accuracy: 0.05928935205628661\n",
      "\n",
      "Classification Report:\n",
      "                           precision    recall  f1-score   support\n",
      "\n",
      "                  BENIGN       0.81      0.03      0.06     27240\n",
      "                     Bot       0.00      0.65      0.00        26\n",
      "                    DDoS       0.01      0.00      0.01      1559\n",
      "           DoS GoldenEye       0.06      0.34      0.10       116\n",
      "                DoS Hulk       0.20      0.38      0.26      2752\n",
      "        DoS Slowhttptest       0.00      0.01      0.00        79\n",
      "           DoS slowloris       0.04      0.42      0.08        83\n",
      "             FTP-Patator       0.00      0.00      0.00       115\n",
      "              Heartbleed       0.00      0.00      0.00         1\n",
      "                PortScan       0.00      0.00      0.00      1912\n",
      "             SSH-Patator       0.00      0.44      0.01        64\n",
      "Web Attack � Brute Force       0.00      0.00      0.00        15\n",
      "        Web Attack � XSS       0.00      0.00      0.00         7\n",
      "\n",
      "                accuracy                           0.06     33969\n",
      "               macro avg       0.09      0.18      0.04     33969\n",
      "            weighted avg       0.67      0.06      0.07     33969\n",
      "\n"
     ]
    },
    {
     "name": "stderr",
     "output_type": "stream",
     "text": [
      "c:\\Python312\\Lib\\site-packages\\sklearn\\metrics\\_classification.py:1565: UndefinedMetricWarning: Precision is ill-defined and being set to 0.0 in labels with no predicted samples. Use `zero_division` parameter to control this behavior.\n",
      "  _warn_prf(average, modifier, f\"{metric.capitalize()} is\", len(result))\n",
      "c:\\Python312\\Lib\\site-packages\\sklearn\\metrics\\_classification.py:1565: UndefinedMetricWarning: Precision is ill-defined and being set to 0.0 in labels with no predicted samples. Use `zero_division` parameter to control this behavior.\n",
      "  _warn_prf(average, modifier, f\"{metric.capitalize()} is\", len(result))\n"
     ]
    }
   ],
   "source": [
    "# subset_data = full_traffic_data.sample(frac=1/25, random_state=42)\n",
    "# print(\"Subset shape:\", subset_data.shape)\n",
    "\n",
    "# # Define your selected features and target variable.\n",
    "# selected_features = [\n",
    "#     'Flow Duration',\n",
    "#     'Total Fwd Packets',\n",
    "#     'Total Backward Packets',\n",
    "#     'Average Packet Size',\n",
    "#     'Down/Up Ratio',\n",
    "#     'Fwd IAT Mean',\n",
    "#     'Bwd IAT Mean',\n",
    "#     'Fwd Packet Length Mean',\n",
    "#     'Bwd Packet Length Mean',\n",
    "#     'Destination Port'\n",
    "# ]\n",
    "\n",
    "# X = subset_data[selected_features]\n",
    "# y = subset_data['Label']\n",
    "\n",
    "# # Split the subset into training and testing sets (70% train, 30% test).\n",
    "# X_train, X_test, y_train, y_test = train_test_split(X, y, test_size=0.3, random_state=42)\n",
    "\n",
    "# # Identify classes in y_train that have at least 2 samples.\n",
    "# class_counts = y_train.value_counts()\n",
    "# classes_to_keep = class_counts[class_counts >= 2].index\n",
    "# print(\"Classes retained for oversampling:\", classes_to_keep.tolist())\n",
    "\n",
    "# # Filter out classes with fewer than 2 samples from the training set.\n",
    "# X_train_filtered = X_train[y_train.isin(classes_to_keep)]\n",
    "# y_train_filtered = y_train[y_train.isin(classes_to_keep)]\n",
    "\n",
    "# # Use SMOTE with k_neighbors set to 1 (now safe because every class has at least 2 samples).\n",
    "# smote = SMOTE(random_state=42, k_neighbors=1)\n",
    "# X_train_resampled, y_train_resampled = smote.fit_resample(X_train_filtered, y_train_filtered)\n",
    "\n",
    "# # Initialize and train the logistic regression model.\n",
    "# model = LogisticRegression(max_iter=1000)\n",
    "# model.fit(X_train_resampled, y_train_resampled)\n",
    "\n",
    "# # Make predictions on the test set.\n",
    "# y_pred = model.predict(X_test)\n",
    "\n",
    "# # Evaluate model performance.\n",
    "# print(\"Accuracy:\", accuracy_score(y_test, y_pred))\n",
    "# print(\"\\nClassification Report:\\n\", classification_report(y_test, y_pred))\n"
   ]
  },
  {
   "cell_type": "code",
   "execution_count": null,
   "metadata": {},
   "outputs": [],
   "source": []
  }
 ],
 "metadata": {
  "kernelspec": {
   "display_name": "Python 3",
   "language": "python",
   "name": "python3"
  },
  "language_info": {
   "codemirror_mode": {
    "name": "ipython",
    "version": 3
   },
   "file_extension": ".py",
   "mimetype": "text/x-python",
   "name": "python",
   "nbconvert_exporter": "python",
   "pygments_lexer": "ipython3",
   "version": "3.12.4"
  }
 },
 "nbformat": 4,
 "nbformat_minor": 2
}
